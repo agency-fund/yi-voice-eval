{
 "cells": [
  {
   "cell_type": "markdown",
   "metadata": {},
   "source": [
    "# Audio Inspection\n",
    "\n",
    "Extract metadata from all audio files using ffprobe."
   ]
  },
  {
   "cell_type": "code",
   "execution_count": null,
   "metadata": {},
   "outputs": [],
   "source": [
    "import pandas as pd\n",
    "from datetime import datetime\n",
    "from src.voice_eval.storage import list_files\n",
    "from src.voice_eval.config import load_config\n",
    "from src.voice_eval.audio_metadata import extract_audio_info"
   ]
  },
  {
   "cell_type": "code",
   "execution_count": null,
   "metadata": {},
   "outputs": [],
   "source": [
    "audio_dir = load_config('input', 'audio_dir')\n",
    "reports_dir = load_config('output', 'reports_dir')\n",
    "dataset_name = load_config('dataset', 'name')\n",
    "\n",
    "print(f\"Dataset: {dataset_name}\")\n",
    "print(f\"Audio directory: {audio_dir}\\n\")"
   ]
  },
  {
   "cell_type": "code",
   "execution_count": null,
   "metadata": {},
   "outputs": [],
   "source": [
    "audio_files = list_files(base_dir=audio_dir, pattern=\"*\")\n",
    "print(f\"Found {len(audio_files)} files\\n\")"
   ]
  },
  {
   "cell_type": "code",
   "execution_count": null,
   "metadata": {},
   "outputs": [],
   "source": [
    "metadata = []\n",
    "for audio_file in audio_files:\n",
    "    try:\n",
    "        metadata.append(extract_audio_info(audio_file))\n",
    "    except Exception as e:\n",
    "        print(f\"Error processing {audio_file}: {e}\")"
   ]
  },
  {
   "cell_type": "code",
   "execution_count": null,
   "metadata": {},
   "outputs": [],
   "source": [
    "df = pd.DataFrame(metadata)\n",
    "print(df.to_string())\n",
    "print(f\"\\nTotal files: {len(df)}\")\n",
    "print(f\"Total duration: {df['duration'].sum() / 3600:.2f} hours\")\n",
    "print(f\"Avg duration: {df['duration'].mean() / 60:.1f} minutes\")"
   ]
  },
  {
   "cell_type": "code",
   "execution_count": null,
   "metadata": {},
   "outputs": [],
   "source": [
    "timestamp = datetime.now().strftime(\"%Y%m%d_%H%M%S\")\n",
    "df.to_csv(f\"{reports_dir}/_audio_inspection_{timestamp}.csv\", index=False)\n",
    "df.to_csv(f\"{reports_dir}/_audio_inspection_latest.csv\", index=False)\n",
    "\n",
    "print(f\"\\nSaved to:\")\n",
    "print(f\"  - {reports_dir}/_audio_inspection_{timestamp}.csv\")\n",
    "print(f\"  - {reports_dir}/_audio_inspection_latest.csv\")"
   ]
  }
 ],
 "metadata": {
  "kernelspec": {
   "display_name": "Python (yi-voice-eval)",
   "language": "python",
   "name": "yi-voice-eval"
  },
  "language_info": {
   "name": "python",
   "version": "3.11.0"
  }
 },
 "nbformat": 4,
 "nbformat_minor": 2
}