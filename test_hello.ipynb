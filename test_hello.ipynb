{
 "cells": [
  {
   "cell_type": "markdown",
   "id": "header",
   "metadata": {},
   "source": [
    "# Youth Impact Voice Evaluation Harness\n",
    "\n",
    "Testing basic setup..."
   ]
  },
  {
   "cell_type": "code",
   "execution_count": null,
   "id": "hello",
   "metadata": {},
   "outputs": [],
   "source": [
    "# Hello World in Kannada\n",
    "print(\"ನಮಸ್ಕಾರ ಜಗತ್ತು!\")\n",
    "print(\"Namaskara Jagattu!\")\n",
    "print(\"(Hello World!)\")"
   ]
  }
 ],
 "metadata": {
  "kernelspec": {
   "display_name": "Python 3 (ipykernel)",
   "language": "python",
   "name": "python3"
  },
  "language_info": {
   "name": "python",
   "version": "3.11.0"
  }
 },
 "nbformat": 4,
 "nbformat_minor": 5
}
