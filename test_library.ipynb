{
 "cells": [
  {
   "cell_type": "markdown",
   "id": "header",
   "metadata": {},
   "source": "# Testing Library Imports\n\nTesting that we can import utilities from `src/voice_eval/`"
  },
  {
   "cell_type": "code",
   "execution_count": null,
   "id": "import_test",
   "metadata": {},
   "outputs": [],
   "source": "# Import our utility functions using src.voice_eval\nfrom src.voice_eval import __version__\nfrom src.voice_eval.utils import greet_kannada, add_numbers\n\nprint(f\"Successfully imported voice_eval version: {__version__}\")"
  },
  {
   "cell_type": "code",
   "execution_count": null,
   "id": "test_functions",
   "metadata": {},
   "outputs": [],
   "source": [
    "# Test the utility functions\n",
    "print(greet_kannada(\"Youth Impact\"))\n",
    "print(f\"\\n2 + 3 = {add_numbers(2, 3)}\")\n",
    "print(\"\\n✓ Library imports working!\")"
   ]
  }
 ],
 "metadata": {
  "kernelspec": {
   "display_name": ".venv",
   "language": "python",
   "name": "python3"
  },
  "language_info": {
   "codemirror_mode": {
    "name": "ipython",
    "version": 3
   },
   "file_extension": ".py",
   "mimetype": "text/x-python",
   "name": "python",
   "nbconvert_exporter": "python",
   "pygments_lexer": "ipython3",
   "version": "3.11.12"
  }
 },
 "nbformat": 4,
 "nbformat_minor": 5
}