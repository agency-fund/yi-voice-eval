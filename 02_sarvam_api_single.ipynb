{
 "cells": [
  {
   "cell_type": "markdown",
   "metadata": {},
   "source": [
    "# Test Sarvam AI Speech-to-Text on Single File\n",
    "\n",
    "Test Sarvam's STT API with one audio file."
   ]
  },
  {
   "cell_type": "code",
   "execution_count": null,
   "metadata": {},
   "outputs": [],
   "source": [
    "import os\n",
    "import requests\n",
    "from dotenv import load_dotenv\n",
    "from src.voice_eval.config import load_config"
   ]
  },
  {
   "cell_type": "code",
   "execution_count": null,
   "metadata": {},
   "outputs": [],
   "source": [
    "load_dotenv()\n",
    "\n",
    "api_key = os.getenv('SARVAM_API_KEY')\n",
    "if not api_key:\n",
    "    raise ValueError(\"SARVAM_API_KEY not found in .env file\")\n",
    "\n",
    "print(\"✓ API key loaded\")"
   ]
  },
  {
   "cell_type": "code",
   "execution_count": null,
   "metadata": {},
   "outputs": [],
   "source": [
    "audio_dir = load_config('input', 'audio_dir')\n",
    "language = load_config('whisper', 'language')\n",
    "\n",
    "print(f\"Audio directory: {audio_dir}\")\n",
    "print(f\"Language: {language}\")"
   ]
  },
  {
   "cell_type": "code",
   "execution_count": null,
   "metadata": {},
   "outputs": [],
   "source": [
    "test_file = f\"{audio_dir}/+919742536994_3.mp4\"\n",
    "print(f\"Transcribing: {test_file}\")\n",
    "print(f\"Duration: 9.9 seconds (shortest file)\")"
   ]
  },
  {
   "cell_type": "code",
   "execution_count": null,
   "metadata": {},
   "outputs": [],
   "source": [
    "url = \"https://api.sarvam.ai/speech-to-text\"\n",
    "\n",
    "headers = {\n",
    "    \"api-subscription-key\": api_key\n",
    "}\n",
    "\n",
    "with open(test_file, 'rb') as f:\n",
    "    files = {\n",
    "        'file': (os.path.basename(test_file), f, 'audio/mp4')\n",
    "    }\n",
    "    data = {\n",
    "        'language_code': 'kn-IN'\n",
    "    }\n",
    "    \n",
    "    print(\"Sending request to Sarvam API...\\n\")\n",
    "    response = requests.post(url, headers=headers, files=files, data=data)\n",
    "\n",
    "print(f\"Status code: {response.status_code}\")\n",
    "print(f\"Response: {response.json()}\")"
   ]
  },
  {
   "cell_type": "code",
   "execution_count": null,
   "metadata": {},
   "outputs": [],
   "source": [
    "if response.status_code == 200:\n",
    "    result = response.json()\n",
    "    kannada_transcript = result.get('transcript', 'No transcript found')\n",
    "    \n",
    "    print(\"\\n\" + \"=\"*60)\n",
    "    print(\"TRANSCRIPTION (Kannada):\")\n",
    "    print(\"=\"*60)\n",
    "    print(kannada_transcript)\n",
    "    \n",
    "    # Transliterate to Roman script\n",
    "    print(\"\\n\" + \"=\"*60)\n",
    "    print(\"TRANSLITERATING TO ROMAN SCRIPT...\")\n",
    "    print(\"=\"*60)\n",
    "    \n",
    "    transliterate_url = \"https://api.sarvam.ai/transliterate\"\n",
    "    transliterate_headers = {\n",
    "        \"api-subscription-key\": api_key,\n",
    "        \"Content-Type\": \"application/json\"\n",
    "    }\n",
    "    transliterate_payload = {\n",
    "        \"input\": kannada_transcript,\n",
    "        \"source_language_code\": \"kn-IN\",\n",
    "        \"target_language_code\": \"en-IN\"\n",
    "    }\n",
    "    \n",
    "    transliterate_response = requests.post(\n",
    "        transliterate_url, \n",
    "        headers=transliterate_headers, \n",
    "        json=transliterate_payload\n",
    "    )\n",
    "    \n",
    "    if transliterate_response.status_code == 200:\n",
    "        transliterate_result = transliterate_response.json()\n",
    "        romanized_transcript = transliterate_result.get('transliterated_text', 'No transliteration found')\n",
    "        \n",
    "        print(\"\\n\" + \"=\"*60)\n",
    "        print(\"TRANSCRIPTION (Romanized):\")\n",
    "        print(\"=\"*60)\n",
    "        print(romanized_transcript)\n",
    "    else:\n",
    "        print(f\"\\n✗ Transliteration failed: {transliterate_response.status_code}\")\n",
    "        romanized_transcript = None\n",
    "    \n",
    "    print(\"\\n\" + \"=\"*60)\n",
    "    print(\"FULL RESPONSE:\")\n",
    "    print(\"=\"*60)\n",
    "    print(f\"STT Request ID: {result.get('request_id')}\")\n",
    "    print(f\"Language: {result.get('language_code')}\")\n",
    "    print(f\"\\nKannada: {kannada_transcript}\")\n",
    "    print(f\"\\nRomanized: {romanized_transcript}\")\n",
    "    \n",
    "    print(\"\\n✓ Sarvam transcription successful!\")\n",
    "else:\n",
    "    print(f\"\\n✗ Error: {response.status_code}\")\n",
    "    print(response.text)"
   ]
  }
 ],
 "metadata": {
  "kernelspec": {
   "display_name": ".venv",
   "language": "python",
   "name": "python3"
  },
  "language_info": {
   "name": "python",
   "version": "3.11.12"
  }
 },
 "nbformat": 4,
 "nbformat_minor": 2
}
