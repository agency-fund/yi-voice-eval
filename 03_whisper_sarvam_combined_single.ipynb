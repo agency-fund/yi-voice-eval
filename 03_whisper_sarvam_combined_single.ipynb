{
 "cells": [
  {
   "cell_type": "markdown",
   "id": "cell-0",
   "metadata": {},
   "source": [
    "# Test Whisper API + Sarvam Transliteration Pipeline\n",
    "\n",
    "This notebook tests the full pipeline:\n",
    "1. Transcribe audio with OpenAI Whisper API (Kannada script)\n",
    "2. Transliterate to Roman script using Sarvam AI\n",
    "3. Save both versions\n",
    "\n",
    "**Refactored to use:** \n",
    "- `src/voice_eval/whisper_api.py`\n",
    "- `src/voice_eval/sarvam_api.py`"
   ]
  },
  {
   "cell_type": "code",
   "execution_count": null,
   "id": "cell-1",
   "metadata": {},
   "outputs": [],
   "source": [
    "import json\n",
    "from dotenv import load_dotenv\n",
    "from src.voice_eval.config import load_config\n",
    "from src.voice_eval.whisper_api import transcribe_audio, transcription_to_dict, estimate_cost\n",
    "from src.voice_eval.sarvam_api import transliterate_text, transliterate_segments, get_sarvam_api_key\n",
    "from src.voice_eval.storage import write_file"
   ]
  },
  {
   "cell_type": "code",
   "execution_count": null,
   "id": "cell-2",
   "metadata": {},
   "outputs": [],
   "source": [
    "# Load environment variables\n",
    "load_dotenv()\n",
    "sarvam_key = get_sarvam_api_key()\n",
    "print(\"\u2713 API keys loaded\")"
   ]
  },
  {
   "cell_type": "code",
   "execution_count": null,
   "id": "cell-3",
   "metadata": {},
   "outputs": [],
   "source": [
    "# Load configuration\n",
    "language = load_config('whisper', 'language')\n",
    "audio_dir = load_config('input', 'audio_dir')\n",
    "\n",
    "print(f\"Language: {language}\")\n",
    "print(f\"Audio directory: {audio_dir}\")"
   ]
  },
  {
   "cell_type": "code",
   "execution_count": null,
   "id": "cell-4",
   "metadata": {},
   "outputs": [],
   "source": [
    "# Pick an MP3 file for testing\n",
    "test_file = f\"{audio_dir}/GHPS.  Bammanakatti.mp3\"\n",
    "print(f\"Test file: {test_file}\")\n",
    "\n",
    "# Check file size\n",
    "import os\n",
    "file_size_mb = os.path.getsize(test_file) / (1024 * 1024)\n",
    "print(f\"File size: {file_size_mb:.2f} MB\")"
   ]
  },
  {
   "cell_type": "markdown",
   "id": "cell-5",
   "metadata": {},
   "source": [
    "## Step 1: Transcribe with Whisper API"
   ]
  },
  {
   "cell_type": "code",
   "execution_count": null,
   "id": "cell-6",
   "metadata": {},
   "outputs": [],
   "source": [
    "print(\"\\n\" + \"=\"*60)\n",
    "print(\"STEP 1: Transcribing with OpenAI Whisper API...\")\n",
    "print(\"=\"*60)\n",
    "\n",
    "transcript = transcribe_audio(\n",
    "    audio_path=test_file,\n",
    "    language=language,\n",
    "    response_format=\"verbose_json\",\n",
    "    timestamp_granularities=[\"segment\"]\n",
    ")\n",
    "\n",
    "print(f\"\u2713 Transcription complete!\")\n",
    "print(f\"  Language detected: {transcript.language}\")\n",
    "print(f\"  Duration: {transcript.duration:.2f} seconds\")\n",
    "print(f\"  Segments: {len(transcript.segments)}\")\n",
    "print(f\"  Cost: ${estimate_cost(transcript.duration):.4f}\")\n",
    "print(f\"\\nFirst 200 chars (Kannada script):\\n{transcript.text[:200]}...\")"
   ]
  },
  {
   "cell_type": "markdown",
   "id": "cell-7",
   "metadata": {},
   "source": [
    "## Step 2: Transliterate Full Text with Sarvam AI"
   ]
  },
  {
   "cell_type": "code",
   "execution_count": null,
   "id": "cell-8",
   "metadata": {},
   "outputs": [],
   "source": [
    "print(\"\\n\" + \"=\"*60)\n",
    "print(\"STEP 2: Transliterating full text to Roman script...\")\n",
    "print(\"=\"*60)\n",
    "\n",
    "romanized_text = transliterate_text(\n",
    "    text=transcript.text,\n",
    "    api_key=sarvam_key,\n",
    "    source_language_code=\"kn-IN\"\n",
    ")\n",
    "\n",
    "if romanized_text:\n",
    "    print(f\"\u2713 Transliteration complete!\")\n",
    "    print(f\"\\nFirst 200 chars (Romanized):\\n{romanized_text[:200]}...\")\n",
    "else:\n",
    "    print(\"\u2717 Transliteration failed\")\n",
    "    romanized_text = None"
   ]
  },
  {
   "cell_type": "markdown",
   "id": "cell-9",
   "metadata": {},
   "source": [
    "## Step 3: Transliterate Individual Segments"
   ]
  },
  {
   "cell_type": "code",
   "execution_count": null,
   "id": "cell-10",
   "metadata": {},
   "outputs": [],
   "source": [
    "print(\"\\n\" + \"=\"*60)\n",
    "print(\"STEP 3: Transliterating individual segments...\")\n",
    "print(\"=\"*60)\n",
    "\n",
    "# Convert segments to dictionaries\n",
    "segments_dict = transcription_to_dict(transcript)[\"segments\"]\n",
    "\n",
    "romanized_segments = transliterate_segments(\n",
    "    segments=segments_dict,\n",
    "    api_key=sarvam_key,\n",
    "    source_language_code=\"kn-IN\",\n",
    "    text_field=\"text\"\n",
    ")\n",
    "\n",
    "print(f\"\u2713 All {len(romanized_segments)} segments transliterated!\")"
   ]
  },
  {
   "cell_type": "markdown",
   "id": "cell-11",
   "metadata": {},
   "source": [
    "## Step 4: Save Combined Results"
   ]
  },
  {
   "cell_type": "code",
   "execution_count": null,
   "id": "cell-12",
   "metadata": {},
   "outputs": [],
   "source": [
    "print(\"\\n\" + \"=\"*60)\n",
    "print(\"STEP 4: Saving results...\")\n",
    "print(\"=\"*60)\n",
    "\n",
    "# Create combined response\n",
    "combined_response = {\n",
    "    \"metadata\": {\n",
    "        \"file\": test_file,\n",
    "        \"language\": transcript.language,\n",
    "        \"duration\": transcript.duration,\n",
    "        \"whisper_model\": \"whisper-1\",\n",
    "        \"transliteration_provider\": \"sarvam-ai\",\n",
    "        \"cost_usd\": estimate_cost(transcript.duration)\n",
    "    },\n",
    "    \"transcription\": {\n",
    "        \"text_kannada\": transcript.text,\n",
    "        \"text_romanized\": romanized_text\n",
    "    },\n",
    "    \"segments\": romanized_segments\n",
    "}\n",
    "\n",
    "# Save to JSON\n",
    "output_path = write_file(\n",
    "    \"whisper_sarvam_combined_response.json\",\n",
    "    json.dumps(combined_response, indent=2, ensure_ascii=False),\n",
    "    base_dir=\"files/transcriptions/whisper_sarvam_test\"\n",
    ")\n",
    "\n",
    "print(f\"\u2713 Combined results saved to: {output_path}\")"
   ]
  },
  {
   "cell_type": "markdown",
   "id": "cell-13",
   "metadata": {},
   "source": [
    "## Step 5: Display Sample Results"
   ]
  },
  {
   "cell_type": "code",
   "execution_count": null,
   "id": "cell-14",
   "metadata": {},
   "outputs": [],
   "source": [
    "print(\"\\n\" + \"=\"*60)\n",
    "print(\"SAMPLE SEGMENTS (First 3)\")\n",
    "print(\"=\"*60)\n",
    "\n",
    "for i, seg in enumerate(romanized_segments[:3], 1):\n",
    "    print(f\"\\n[Segment {i}] {seg['start']:.2f}s \u2192 {seg['end']:.2f}s\")\n",
    "    print(f\"  Kannada:    {seg['text'][:80]}...\" if len(seg['text']) > 80 else f\"  Kannada:    {seg['text']}\")\n",
    "    print(f\"  Romanized:  {seg['text_romanized'][:80]}...\" if len(seg.get('text_romanized', '')) > 80 else f\"  Romanized:  {seg.get('text_romanized', 'N/A')}\")\n",
    "\n",
    "print(f\"\\n... ({len(romanized_segments) - 3} more segments)\")\n",
    "print(\"\\n\u2705 Pipeline test successful!\")"
   ]
  }
 ],
 "metadata": {
  "kernelspec": {
   "display_name": "Python (yi-voice-eval)",
   "language": "python",
   "name": "yi-voice-eval"
  },
  "language_info": {
   "name": "python",
   "version": "3.11.0"
  }
 },
 "nbformat": 4,
 "nbformat_minor": 5
}