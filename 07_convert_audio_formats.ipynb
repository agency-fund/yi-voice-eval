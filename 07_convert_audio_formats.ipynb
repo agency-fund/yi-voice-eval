{
 "cells": [
  {
   "cell_type": "markdown",
   "metadata": {},
   "source": [
    "# Convert Audio Files to MP3 Format\n",
    "\n",
    "Convert audio files that failed in batch processing due to unsupported formats.\n",
    "\n",
    "**Problem:** Whisper API rejected files with these formats:\n",
    "- Raw `.aac` files\n",
    "- `.amr` (AMR-NB) files  \n",
    "- `.mp4` files (3GPP/AAC codec)\n",
    "- `.mp3` files that are actually AAC codec\n",
    "\n",
    "**Solution:** Convert all failed files to true MP3 format using ffmpeg.\n",
    "\n",
    "**Strategy:**\n",
    "1. Read failed files list from batch processing CSV\n",
    "2. Convert each file to MP3 with quality settings: 128kbps, 44.1kHz\n",
    "3. Save as `original_name_converted.mp3` (preserves originals)\n",
    "4. Validate conversions\n",
    "5. Generate summary report"
   ]
  },
  {
   "cell_type": "code",
   "execution_count": null,
   "metadata": {},
   "outputs": [],
   "source": [
    "import os\n",
    "import subprocess\n",
    "from pathlib import Path\n",
    "import pandas as pd\n",
    "from src.voice_eval.config import load_config"
   ]
  },
  {
   "cell_type": "code",
   "execution_count": null,
   "metadata": {},
   "outputs": [],
   "source": [
    "# Load configuration\n",
    "audio_dir = load_config('input', 'audio_dir')\n",
    "reports_dir = load_config('output', 'reports_dir')\n",
    "\n",
    "print(f\"Audio directory: {audio_dir}\")\n",
    "print(f\"Reports directory: {reports_dir}\")"
   ]
  },
  {
   "cell_type": "markdown",
   "metadata": {},
   "source": [
    "## Check FFmpeg Installation"
   ]
  },
  {
   "cell_type": "code",
   "execution_count": null,
   "metadata": {},
   "outputs": [],
   "source": [
    "# Check if ffmpeg is installed\n",
    "try:\n",
    "    result = subprocess.run(['ffmpeg', '-version'], capture_output=True, text=True, timeout=5)\n",
    "    if result.returncode == 0:\n",
    "        version_line = result.stdout.split('\\n')[0]\n",
    "        print(f\"✓ FFmpeg found: {version_line}\")\n",
    "    else:\n",
    "        print(\"✗ FFmpeg not working properly\")\n",
    "        print(\"Please install ffmpeg: brew install ffmpeg (macOS) or apt-get install ffmpeg (Linux)\")\n",
    "except FileNotFoundError:\n",
    "    print(\"✗ FFmpeg not found\")\n",
    "    print(\"Please install ffmpeg: brew install ffmpeg (macOS) or apt-get install ffmpeg (Linux)\")\n",
    "except Exception as e:\n",
    "    print(f\"✗ Error checking ffmpeg: {e}\")"
   ]
  },
  {
   "cell_type": "markdown",
   "metadata": {},
   "source": [
    "## Load Failed Files from Previous Batch"
   ]
  },
  {
   "cell_type": "code",
   "execution_count": null,
   "metadata": {},
   "outputs": [],
   "source": [
    "# Read the latest batch processing summary\n",
    "summary_csv = f\"{reports_dir}/batch_whisper_gpt4o_summary_latest.csv\"\n",
    "df = pd.read_csv(summary_csv)\n",
    "\n",
    "# Filter failed files\n",
    "failed_files = df[df['status'] == 'failed']['file'].tolist()\n",
    "\n",
    "print(f\"Found {len(failed_files)} failed files to convert:\")\n",
    "print(f\"\\nFile format breakdown:\")\n",
    "format_counts = {}\n",
    "for f in failed_files:\n",
    "    ext = Path(f).suffix.lower()\n",
    "    format_counts[ext] = format_counts.get(ext, 0) + 1\n",
    "\n",
    "for ext, count in sorted(format_counts.items()):\n",
    "    print(f\"  {ext}: {count} files\")\n",
    "\n",
    "print(f\"\\nFirst 5 failed files:\")\n",
    "for f in failed_files[:5]:\n",
    "    print(f\"  - {f}\")\n",
    "print(f\"  ... and {len(failed_files) - 5} more\")"
   ]
  },
  {
   "cell_type": "markdown",
   "metadata": {},
   "source": [
    "## Conversion Function"
   ]
  },
  {
   "cell_type": "code",
   "execution_count": null,
   "metadata": {},
   "outputs": [],
   "source": [
    "def convert_to_mp3(\n",
    "    input_path: str,\n",
    "    output_dir: str = None,\n",
    "    bitrate: str = \"128k\",\n",
    "    sample_rate: int = 44100\n",
    ") -> dict:\n",
    "    \"\"\"\n",
    "    Convert audio file to MP3 format using ffmpeg.\n",
    "    \n",
    "    Args:\n",
    "        input_path: Path to input audio file\n",
    "        output_dir: Directory for output (default: same as input)\n",
    "        bitrate: MP3 bitrate (default: 128k)\n",
    "        sample_rate: Sample rate in Hz (default: 44100)\n",
    "    \n",
    "    Returns:\n",
    "        dict with status, output_path, and error (if any)\n",
    "    \"\"\"\n",
    "    input_path = Path(input_path)\n",
    "    \n",
    "    if output_dir is None:\n",
    "        output_dir = input_path.parent\n",
    "    else:\n",
    "        output_dir = Path(output_dir)\n",
    "        output_dir.mkdir(parents=True, exist_ok=True)\n",
    "    \n",
    "    # Generate output filename: originalname_converted.mp3\n",
    "    output_filename = f\"{input_path.stem}_converted.mp3\"\n",
    "    output_path = output_dir / output_filename\n",
    "    \n",
    "    result = {\n",
    "        \"input_file\": input_path.name,\n",
    "        \"output_file\": output_filename,\n",
    "        \"status\": \"failed\",\n",
    "        \"output_path\": None,\n",
    "        \"error\": None\n",
    "    }\n",
    "    \n",
    "    try:\n",
    "        # FFmpeg command:\n",
    "        # -i: input file\n",
    "        # -vn: no video (audio only)\n",
    "        # -ar: audio sample rate\n",
    "        # -ab: audio bitrate\n",
    "        # -f mp3: force MP3 format\n",
    "        # -y: overwrite output file\n",
    "        cmd = [\n",
    "            'ffmpeg',\n",
    "            '-i', str(input_path),\n",
    "            '-vn',  # No video\n",
    "            '-ar', str(sample_rate),\n",
    "            '-ab', bitrate,\n",
    "            '-f', 'mp3',\n",
    "            '-y',  # Overwrite\n",
    "            str(output_path)\n",
    "        ]\n",
    "        \n",
    "        # Run ffmpeg (suppress output unless error)\n",
    "        process = subprocess.run(\n",
    "            cmd,\n",
    "            capture_output=True,\n",
    "            text=True,\n",
    "            timeout=300  # 5 minute timeout\n",
    "        )\n",
    "        \n",
    "        if process.returncode == 0 and output_path.exists():\n",
    "            # Verify the output file is not empty\n",
    "            file_size = output_path.stat().st_size\n",
    "            if file_size > 0:\n",
    "                result.update({\n",
    "                    \"status\": \"success\",\n",
    "                    \"output_path\": str(output_path),\n",
    "                    \"file_size_mb\": file_size / (1024 * 1024)\n",
    "                })\n",
    "            else:\n",
    "                result[\"error\"] = \"Output file is empty\"\n",
    "        else:\n",
    "            result[\"error\"] = f\"FFmpeg failed with return code {process.returncode}\\n{process.stderr[:200]}\"\n",
    "    \n",
    "    except subprocess.TimeoutExpired:\n",
    "        result[\"error\"] = \"Conversion timed out (>5 minutes)\"\n",
    "    except Exception as e:\n",
    "        result[\"error\"] = str(e)\n",
    "    \n",
    "    return result\n",
    "\n",
    "print(\"✓ Conversion function defined\")"
   ]
  },
  {
   "cell_type": "markdown",
   "metadata": {},
   "source": [
    "## Batch Conversion"
   ]
  },
  {
   "cell_type": "code",
   "execution_count": null,
   "metadata": {},
   "outputs": [],
   "source": [
    "print(\"=\"*80)\n",
    "print(\"STARTING BATCH CONVERSION\")\n",
    "print(\"=\"*80)\n",
    "print(f\"Files to convert: {len(failed_files)}\")\n",
    "print(f\"Output format: MP3 (128kbps, 44.1kHz)\")\n",
    "print(f\"Output location: {audio_dir}/\")\n",
    "print()\n",
    "\n",
    "conversion_results = []\n",
    "\n",
    "for i, filename in enumerate(failed_files, 1):\n",
    "    input_path = Path(audio_dir) / filename\n",
    "    \n",
    "    print(f\"[{i}/{len(failed_files)}] Converting: {filename}\")\n",
    "    \n",
    "    # Check if input file exists\n",
    "    if not input_path.exists():\n",
    "        print(f\"  ✗ Input file not found: {input_path}\")\n",
    "        conversion_results.append({\n",
    "            \"input_file\": filename,\n",
    "            \"status\": \"failed\",\n",
    "            \"error\": \"Input file not found\"\n",
    "        })\n",
    "        continue\n",
    "    \n",
    "    # Convert\n",
    "    result = convert_to_mp3(input_path, output_dir=audio_dir)\n",
    "    conversion_results.append(result)\n",
    "    \n",
    "    if result[\"status\"] == \"success\":\n",
    "        print(f\"  ✓ Converted to: {result['output_file']} ({result['file_size_mb']:.2f} MB)\")\n",
    "    else:\n",
    "        print(f\"  ✗ Failed: {result['error']}\")\n",
    "\n",
    "print(\"\\n\" + \"=\"*80)\n",
    "print(\"CONVERSION COMPLETE\")\n",
    "print(\"=\"*80)"
   ]
  },
  {
   "cell_type": "markdown",
   "metadata": {},
   "source": [
    "## Summary Report"
   ]
  },
  {
   "cell_type": "code",
   "execution_count": null,
   "metadata": {},
   "outputs": [],
   "source": [
    "# Calculate statistics\n",
    "total_files = len(conversion_results)\n",
    "successful = [r for r in conversion_results if r.get(\"status\") == \"success\"]\n",
    "failed = [r for r in conversion_results if r.get(\"status\") == \"failed\"]\n",
    "\n",
    "total_size_mb = sum(r.get(\"file_size_mb\", 0) for r in successful)\n",
    "\n",
    "print(f\"\\n📊 CONVERSION SUMMARY\")\n",
    "print(\"=\"*80)\n",
    "print(f\"\\nFiles Converted:\")\n",
    "print(f\"  ✓ Successful: {len(successful)} ({len(successful)/total_files*100:.1f}%)\")\n",
    "print(f\"  ✗ Failed:     {len(failed)} ({len(failed)/total_files*100:.1f}%)\")\n",
    "print(f\"  📁 Total:      {total_files}\")\n",
    "\n",
    "if successful:\n",
    "    print(f\"\\nOutput Files:\")\n",
    "    print(f\"  Total size: {total_size_mb:.2f} MB\")\n",
    "    print(f\"  Average size: {total_size_mb/len(successful):.2f} MB per file\")\n",
    "    print(f\"  Location: {audio_dir}/\")\n",
    "    print(f\"  Naming pattern: [original_name]_converted.mp3\")\n",
    "\n",
    "if failed:\n",
    "    print(f\"\\n❌ FAILED CONVERSIONS ({len(failed)}):\")\n",
    "    print(\"-\" * 80)\n",
    "    for r in failed:\n",
    "        print(f\"  • {r['input_file']}\")\n",
    "        print(f\"    Error: {r.get('error', 'Unknown error')}\")\n",
    "\n",
    "print(f\"\\n✅ Next Step: Re-run batch processing (notebook 06) to transcribe converted files\")\n",
    "print(f\"   Set SKIP_EXISTING=True to avoid reprocessing successful files\")"
   ]
  },
  {
   "cell_type": "markdown",
   "metadata": {},
   "source": [
    "## Save Conversion Report"
   ]
  },
  {
   "cell_type": "code",
   "execution_count": null,
   "metadata": {},
   "outputs": [],
   "source": [
    "# Save conversion results to CSV\n",
    "from datetime import datetime\n",
    "\n",
    "conversion_df = pd.DataFrame(conversion_results)\n",
    "timestamp = datetime.now().strftime(\"%Y%m%d_%H%M%S\")\n",
    "\n",
    "csv_path_timestamped = f\"{reports_dir}/audio_conversion_summary_{timestamp}.csv\"\n",
    "csv_path_latest = f\"{reports_dir}/audio_conversion_summary_latest.csv\"\n",
    "\n",
    "conversion_df.to_csv(csv_path_timestamped, index=False)\n",
    "conversion_df.to_csv(csv_path_latest, index=False)\n",
    "\n",
    "print(f\"\\n💾 Conversion report saved:\")\n",
    "print(f\"  • {csv_path_timestamped}\")\n",
    "print(f\"  • {csv_path_latest}\")\n",
    "\n",
    "# Display summary table\n",
    "print(f\"\\n📋 Conversion Results (first 10 rows):\")\n",
    "print(conversion_df.head(10).to_string())"
   ]
  },
  {
   "cell_type": "markdown",
   "metadata": {},
   "source": [
    "## Create File List for Batch Processing\n",
    "\n",
    "Generate a list of successfully converted files to help with next steps."
   ]
  },
  {
   "cell_type": "code",
   "execution_count": null,
   "metadata": {},
   "outputs": [],
   "source": [
    "if successful:\n",
    "    converted_files = [r['output_file'] for r in successful]\n",
    "    \n",
    "    print(f\"\\n📝 Successfully Converted Files ({len(converted_files)}):\")\n",
    "    print(\"-\" * 80)\n",
    "    for f in converted_files[:10]:\n",
    "        print(f\"  {f}\")\n",
    "    if len(converted_files) > 10:\n",
    "        print(f\"  ... and {len(converted_files) - 10} more\")\n",
    "    \n",
    "    print(f\"\\n💡 These files are now ready for batch processing with Whisper API\")"
   ]
  }
 ],
 "metadata": {
  "kernelspec": {
   "display_name": "yi-voice-eval",
   "language": "python",
   "name": "yi-voice-eval"
  },
  "language_info": {
   "codemirror_mode": {
    "name": "ipython",
    "version": 3
   },
   "file_extension": ".py",
   "mimetype": "text/x-python",
   "name": "python",
   "nbconvert_exporter": "python",
   "pygments_lexer": "ipython3",
   "version": "3.12.0"
  }
 },
 "nbformat": 4,
 "nbformat_minor": 4
}
