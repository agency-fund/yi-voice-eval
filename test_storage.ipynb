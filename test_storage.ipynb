{
 "cells": [
  {
   "cell_type": "markdown",
   "id": "header",
   "metadata": {},
   "source": [
    "# Testing Storage Utilities\n",
    "\n",
    "Testing fsspec-based storage for local file access (with path to cloud migration)"
   ]
  },
  {
   "cell_type": "code",
   "execution_count": null,
   "id": "imports",
   "metadata": {},
   "outputs": [],
   "source": [
    "# Import storage utilities\n",
    "from src.voice_eval.storage import get_file_path, read_file, list_files\n",
    "\n",
    "print(\"✓ Storage utilities imported\")"
   ]
  },
  {
   "cell_type": "code",
   "execution_count": null,
   "id": "list_files",
   "metadata": {},
   "outputs": [],
   "source": [
    "# List all files in files/ directory\n",
    "files = list_files()\n",
    "print(f\"Found {len(files)} file(s) in storage:\")\n",
    "for f in files:\n",
    "    print(f\"  - {f}\")"
   ]
  },
  {
   "cell_type": "code",
   "execution_count": null,
   "id": "get_path",
   "metadata": {},
   "outputs": [],
   "source": [
    "# Get path to a specific file\n",
    "file_path = get_file_path(\"sample.txt\")\n",
    "print(f\"File path: {file_path}\")"
   ]
  },
  {
   "cell_type": "code",
   "execution_count": null,
   "id": "read_file",
   "metadata": {},
   "outputs": [],
   "source": "# Read file contents\ncontent = read_file(\"sample.txt\")\nprint(\"File contents (sample.txt):\")\nprint(\"=\" * 50)\nprint(content)\nprint(\"=\" * 50)\n\n# Test nested file\nnested_content = read_file(\"nested/sample.txt\")\nprint(\"\\nNested file contents (nested/sample.txt):\")\nprint(\"=\" * 50)\nprint(nested_content)\nprint(\"=\" * 50)\nprint(\"\\n✓ Storage utilities working with nested directories!\")"
  }
 ],
 "metadata": {
  "kernelspec": {
   "display_name": "Python 3 (ipykernel)",
   "language": "python",
   "name": "python3"
  },
  "language_info": {
   "name": "python",
   "version": "3.11.0"
  }
 },
 "nbformat": 4,
 "nbformat_minor": 5
}